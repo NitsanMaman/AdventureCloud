{
  "nbformat": 4,
  "nbformat_minor": 0,
  "metadata": {
    "colab": {
      "provenance": [],
      "mount_file_id": "1aqh6lraBCvWOACvlif-ay002SfCa8tjJ",
      "authorship_tag": "ABX9TyNFZCFQTUeIH7gUfLTz+5Km",
      "include_colab_link": true
    },
    "kernelspec": {
      "name": "python3",
      "display_name": "Python 3"
    },
    "language_info": {
      "name": "python"
    },
    "widgets": {
      "application/vnd.jupyter.widget-state+json": {
        "69fb16c85d3f45a18077a99639788649": {
          "model_module": "@jupyter-widgets/controls",
          "model_name": "ButtonModel",
          "model_module_version": "1.5.0",
          "state": {
            "_dom_classes": [],
            "_model_module": "@jupyter-widgets/controls",
            "_model_module_version": "1.5.0",
            "_model_name": "ButtonModel",
            "_view_count": null,
            "_view_module": "@jupyter-widgets/controls",
            "_view_module_version": "1.5.0",
            "_view_name": "ButtonView",
            "button_style": "",
            "description": "Click Me!",
            "disabled": false,
            "icon": "",
            "layout": "IPY_MODEL_1436b7915a9d46a5b4451351647ab8b5",
            "style": "IPY_MODEL_dcfb0a6a0e6745008bafaf85e1f71cb1",
            "tooltip": ""
          }
        },
        "1436b7915a9d46a5b4451351647ab8b5": {
          "model_module": "@jupyter-widgets/base",
          "model_name": "LayoutModel",
          "model_module_version": "1.2.0",
          "state": {
            "_model_module": "@jupyter-widgets/base",
            "_model_module_version": "1.2.0",
            "_model_name": "LayoutModel",
            "_view_count": null,
            "_view_module": "@jupyter-widgets/base",
            "_view_module_version": "1.2.0",
            "_view_name": "LayoutView",
            "align_content": null,
            "align_items": null,
            "align_self": null,
            "border": null,
            "bottom": null,
            "display": null,
            "flex": null,
            "flex_flow": null,
            "grid_area": null,
            "grid_auto_columns": null,
            "grid_auto_flow": null,
            "grid_auto_rows": null,
            "grid_column": null,
            "grid_gap": null,
            "grid_row": null,
            "grid_template_areas": null,
            "grid_template_columns": null,
            "grid_template_rows": null,
            "height": null,
            "justify_content": null,
            "justify_items": null,
            "left": null,
            "margin": null,
            "max_height": null,
            "max_width": null,
            "min_height": null,
            "min_width": null,
            "object_fit": null,
            "object_position": null,
            "order": null,
            "overflow": null,
            "overflow_x": null,
            "overflow_y": null,
            "padding": null,
            "right": null,
            "top": null,
            "visibility": null,
            "width": null
          }
        },
        "dcfb0a6a0e6745008bafaf85e1f71cb1": {
          "model_module": "@jupyter-widgets/controls",
          "model_name": "ButtonStyleModel",
          "model_module_version": "1.5.0",
          "state": {
            "_model_module": "@jupyter-widgets/controls",
            "_model_module_version": "1.5.0",
            "_model_name": "ButtonStyleModel",
            "_view_count": null,
            "_view_module": "@jupyter-widgets/base",
            "_view_module_version": "1.2.0",
            "_view_name": "StyleView",
            "button_color": null,
            "font_weight": ""
          }
        },
        "18885caec13b48d4a76e3ae69b63f158": {
          "model_module": "@jupyter-widgets/output",
          "model_name": "OutputModel",
          "model_module_version": "1.0.0",
          "state": {
            "_dom_classes": [],
            "_model_module": "@jupyter-widgets/output",
            "_model_module_version": "1.0.0",
            "_model_name": "OutputModel",
            "_view_count": null,
            "_view_module": "@jupyter-widgets/output",
            "_view_module_version": "1.0.0",
            "_view_name": "OutputView",
            "layout": "IPY_MODEL_a7e1f8aa97644b6aa372d66519533168",
            "msg_id": "",
            "outputs": [
              {
                "output_type": "stream",
                "name": "stdout",
                "text": [
                  "One\n",
                  "Two\n",
                  "Three\n"
                ]
              },
              {
                "output_type": "stream",
                "name": "stdout",
                "text": [
                  "One\n",
                  "Two\n",
                  "Three\n"
                ]
              },
              {
                "output_type": "stream",
                "name": "stdout",
                "text": [
                  "One\n",
                  "Two\n",
                  "Three\n"
                ]
              },
              {
                "output_type": "stream",
                "name": "stdout",
                "text": [
                  "One\n",
                  "Two\n",
                  "Three\n"
                ]
              },
              {
                "output_type": "stream",
                "name": "stdout",
                "text": [
                  "One\n",
                  "Two\n",
                  "Three\n"
                ]
              },
              {
                "output_type": "stream",
                "name": "stdout",
                "text": [
                  "One\n",
                  "Two\n",
                  "Three\n"
                ]
              },
              {
                "output_type": "stream",
                "name": "stdout",
                "text": [
                  "One\n",
                  "Two\n",
                  "Three\n"
                ]
              },
              {
                "output_type": "stream",
                "name": "stdout",
                "text": [
                  "One\n",
                  "Two\n",
                  "Three\n"
                ]
              },
              {
                "output_type": "stream",
                "name": "stdout",
                "text": [
                  "One\n",
                  "Two\n",
                  "Three\n"
                ]
              }
            ]
          }
        },
        "a7e1f8aa97644b6aa372d66519533168": {
          "model_module": "@jupyter-widgets/base",
          "model_name": "LayoutModel",
          "model_module_version": "1.2.0",
          "state": {
            "_model_module": "@jupyter-widgets/base",
            "_model_module_version": "1.2.0",
            "_model_name": "LayoutModel",
            "_view_count": null,
            "_view_module": "@jupyter-widgets/base",
            "_view_module_version": "1.2.0",
            "_view_name": "LayoutView",
            "align_content": null,
            "align_items": null,
            "align_self": null,
            "border": null,
            "bottom": null,
            "display": null,
            "flex": null,
            "flex_flow": null,
            "grid_area": null,
            "grid_auto_columns": null,
            "grid_auto_flow": null,
            "grid_auto_rows": null,
            "grid_column": null,
            "grid_gap": null,
            "grid_row": null,
            "grid_template_areas": null,
            "grid_template_columns": null,
            "grid_template_rows": null,
            "height": null,
            "justify_content": null,
            "justify_items": null,
            "left": null,
            "margin": null,
            "max_height": null,
            "max_width": null,
            "min_height": null,
            "min_width": null,
            "object_fit": null,
            "object_position": null,
            "order": null,
            "overflow": null,
            "overflow_x": null,
            "overflow_y": null,
            "padding": null,
            "right": null,
            "top": null,
            "visibility": null,
            "width": null
          }
        },
        "7f06659a7b304fb89a788c7c5d50af6f": {
          "model_module": "@jupyter-widgets/controls",
          "model_name": "IntSliderModel",
          "model_module_version": "1.5.0",
          "state": {
            "_dom_classes": [],
            "_model_module": "@jupyter-widgets/controls",
            "_model_module_version": "1.5.0",
            "_model_name": "IntSliderModel",
            "_view_count": null,
            "_view_module": "@jupyter-widgets/controls",
            "_view_module_version": "1.5.0",
            "_view_name": "IntSliderView",
            "continuous_update": true,
            "description": "",
            "description_tooltip": null,
            "disabled": false,
            "layout": "IPY_MODEL_e0af28cd216a4b4a86f7052a9c353a3b",
            "max": 10,
            "min": 0,
            "orientation": "horizontal",
            "readout": true,
            "readout_format": "d",
            "step": 1,
            "style": "IPY_MODEL_87ed14b463a94d9388314d175d377a13",
            "value": 8
          }
        },
        "e0af28cd216a4b4a86f7052a9c353a3b": {
          "model_module": "@jupyter-widgets/base",
          "model_name": "LayoutModel",
          "model_module_version": "1.2.0",
          "state": {
            "_model_module": "@jupyter-widgets/base",
            "_model_module_version": "1.2.0",
            "_model_name": "LayoutModel",
            "_view_count": null,
            "_view_module": "@jupyter-widgets/base",
            "_view_module_version": "1.2.0",
            "_view_name": "LayoutView",
            "align_content": null,
            "align_items": null,
            "align_self": null,
            "border": null,
            "bottom": null,
            "display": null,
            "flex": null,
            "flex_flow": null,
            "grid_area": null,
            "grid_auto_columns": null,
            "grid_auto_flow": null,
            "grid_auto_rows": null,
            "grid_column": null,
            "grid_gap": null,
            "grid_row": null,
            "grid_template_areas": null,
            "grid_template_columns": null,
            "grid_template_rows": null,
            "height": null,
            "justify_content": null,
            "justify_items": null,
            "left": null,
            "margin": null,
            "max_height": null,
            "max_width": null,
            "min_height": null,
            "min_width": null,
            "object_fit": null,
            "object_position": null,
            "order": null,
            "overflow": null,
            "overflow_x": null,
            "overflow_y": null,
            "padding": null,
            "right": null,
            "top": null,
            "visibility": null,
            "width": null
          }
        },
        "87ed14b463a94d9388314d175d377a13": {
          "model_module": "@jupyter-widgets/controls",
          "model_name": "SliderStyleModel",
          "model_module_version": "1.5.0",
          "state": {
            "_model_module": "@jupyter-widgets/controls",
            "_model_module_version": "1.5.0",
            "_model_name": "SliderStyleModel",
            "_view_count": null,
            "_view_module": "@jupyter-widgets/base",
            "_view_module_version": "1.2.0",
            "_view_name": "StyleView",
            "description_width": "",
            "handle_color": null
          }
        }
      }
    }
  },
  "cells": [
    {
      "cell_type": "markdown",
      "metadata": {
        "id": "view-in-github",
        "colab_type": "text"
      },
      "source": [
        "<a href=\"https://colab.research.google.com/github/audiblemaple/collab_test/blob/main/tirgul2.ipynb\" target=\"_parent\"><img src=\"https://colab.research.google.com/assets/colab-badge.svg\" alt=\"Open In Colab\"/></a>"
      ]
    },
    {
      "cell_type": "code",
      "execution_count": 38,
      "metadata": {
        "colab": {
          "base_uri": "https://localhost:8080/",
          "height": 131
        },
        "id": "cCpSca3Vd3Sx",
        "outputId": "fa2c87fd-a6cd-4757-e398-5484531ef474"
      },
      "outputs": [
        {
          "output_type": "error",
          "ename": "SyntaxError",
          "evalue": "ignored",
          "traceback": [
            "\u001b[0;36m  File \u001b[0;32m\"<ipython-input-38-dd85fdfa84b3>\"\u001b[0;36m, line \u001b[0;32m20\u001b[0m\n\u001b[0;31m    <style>\u001b[0m\n\u001b[0m    ^\u001b[0m\n\u001b[0;31mSyntaxError\u001b[0m\u001b[0;31m:\u001b[0m invalid syntax\n"
          ]
        }
      ],
      "source": [
        "#@title Cloud course\n",
        "sleeptimer = 2 #@param {type:\"integer\"}\n",
        "import time\n",
        "print(time.ctime())\n",
        "time.sleep(sleeptimer) \n",
        "print (time.ctime()) \n",
        "\n",
        "name = 'Cloud course' #@param {type:\"string\"} \n",
        "print(name)\n",
        "\n",
        "color = 'red' #@param [\"red\", \"green\", \"blue\"] \n",
        "print(color) \n",
        "\n",
        "#@title Date fields \n",
        "date_input = '1996-03-21' #@param {type:\"date\"} \n",
        "print(date_input) \n",
        "\n"
      ]
    },
    {
      "cell_type": "code",
      "source": [
        "#@title Default title text\n",
        "%%html\n",
        "<style>\n",
        "body {\n",
        "  background-color: #f2bcca;\n",
        "}\n",
        "</style>\n",
        "color = 'blue' #@param [\"red\", \"green\", \"blue\"] \n",
        "print(color) \n",
        "<svg xmlns=\"https://www.w3.org/2000/svg\" viewBox=\"0 0 600 400\" width=\"400\" height=\"400\">\n",
        "   <rect x=\"10\" y=\"00\" width=\"300\" height=\"100\" rx=\"0\" style=\"fill:orange; stroke:black; fill-opacity:1.0\" />\n",
        "   <rect x=\"10\" y=\"100\" width=\"300\" height=\"100\" rx=\"0\" style=\"fill:white; stroke:black; fill-opacity:1.0\" />\n",
        "   <rect x=\"10\" y=\"200\" width=\"300\" height=\"100\" rx=\"0\" style=\"fill:green; stroke:black; fill-opacity:1.0\" />\n",
        "</svg>"
      ],
      "metadata": {
        "colab": {
          "base_uri": "https://localhost:8080/",
          "height": 421
        },
        "id": "zJN203Erk9Jb",
        "outputId": "972074f5-405e-4d31-ed49-a6d867fa9316"
      },
      "execution_count": 41,
      "outputs": [
        {
          "output_type": "display_data",
          "data": {
            "text/plain": [
              "<IPython.core.display.HTML object>"
            ],
            "text/html": [
              "<style>\n",
              "body {\n",
              "  background-color: #f2bcca;\n",
              "}\n",
              "</style>\n",
              "color = 'blue' #@param [\"red\", \"green\", \"blue\"] \n",
              "print(color) \n",
              "<svg xmlns=\"https://www.w3.org/2000/svg\" viewBox=\"0 0 600 400\" width=\"400\" height=\"400\">\n",
              "   <rect x=\"10\" y=\"00\" width=\"300\" height=\"100\" rx=\"0\" style=\"fill:orange; stroke:black; fill-opacity:1.0\" />\n",
              "   <rect x=\"10\" y=\"100\" width=\"300\" height=\"100\" rx=\"0\" style=\"fill:white; stroke:black; fill-opacity:1.0\" />\n",
              "   <rect x=\"10\" y=\"200\" width=\"300\" height=\"100\" rx=\"0\" style=\"fill:green; stroke:black; fill-opacity:1.0\" />\n",
              "</svg>\n"
            ]
          },
          "metadata": {}
        }
      ]
    },
    {
      "cell_type": "code",
      "source": [
        "cd /content/drive/MyDrive/ColabNotebooks/"
      ],
      "metadata": {
        "colab": {
          "base_uri": "https://localhost:8080/"
        },
        "id": "N8tDLXfXnHg8",
        "outputId": "d89bedbc-c7a8-427b-c94b-c6e51aa474f1"
      },
      "execution_count": 60,
      "outputs": [
        {
          "output_type": "stream",
          "name": "stdout",
          "text": [
            "/content/drive/MyDrive/ColabNotebooks\n"
          ]
        }
      ]
    },
    {
      "cell_type": "code",
      "source": [
        "ls /content/drive/MyDrive/ColabNotebooks/"
      ],
      "metadata": {
        "colab": {
          "base_uri": "https://localhost:8080/"
        },
        "id": "S0-utbaLn84H",
        "outputId": "146e215b-f035-477b-8cf0-f345fdeb3026"
      },
      "execution_count": 66,
      "outputs": [
        {
          "output_type": "stream",
          "name": "stdout",
          "text": [
            "1.txt  example.txt  ronCommit.ipynb  tirgul2.ipynb\n"
          ]
        }
      ]
    },
    {
      "cell_type": "code",
      "source": [
        "with open('1.txt', 'r') as file:\n",
        "  contents = file.read()\n",
        "  print(contents)\n",
        "  \n",
        "file.close()\n",
        "\n",
        "with open('example.txt', 'w') as file:\n",
        "  file.write('This is some example text.')\n",
        "\n",
        "with open('example.txt', 'a') as file:\n",
        " file.write('\\nThis is some more example text.')\n",
        " file.close()"
      ],
      "metadata": {
        "colab": {
          "base_uri": "https://localhost:8080/"
        },
        "id": "5yMwNjQyn3Ue",
        "outputId": "6e141bcc-b0c4-4ff3-ee7d-c61a93f51dcb"
      },
      "execution_count": 63,
      "outputs": [
        {
          "output_type": "stream",
          "name": "stdout",
          "text": [
            "One\n",
            "Two\n",
            "Three\n"
          ]
        }
      ]
    },
    {
      "cell_type": "code",
      "source": [
        "import ipywidgets as widgets\n",
        "from IPython.display import display\n",
        "button = widgets.Button(description=\"Click Me!\")\n",
        "output = widgets.Output()\n",
        "def on_button_clicked(b):\n",
        "  # Display the message within the output widget.\n",
        "  with output:\n",
        "    with open('/content/drive/MyDrive/ColabNotebooks/1.txt', 'r') as file:\n",
        "      contents = file.read()\n",
        "      print(contents)\n",
        "button.on_click(on_button_clicked)\n",
        "display(button, output)"
      ],
      "metadata": {
        "colab": {
          "base_uri": "https://localhost:8080/",
          "height": 518,
          "referenced_widgets": [
            "69fb16c85d3f45a18077a99639788649",
            "1436b7915a9d46a5b4451351647ab8b5",
            "dcfb0a6a0e6745008bafaf85e1f71cb1",
            "18885caec13b48d4a76e3ae69b63f158",
            "a7e1f8aa97644b6aa372d66519533168"
          ]
        },
        "id": "Q2dRV_4XoL8n",
        "outputId": "98855b36-e71a-422e-f20e-5e585453a92c"
      },
      "execution_count": 65,
      "outputs": [
        {
          "output_type": "display_data",
          "data": {
            "text/plain": [
              "Button(description='Click Me!', style=ButtonStyle())"
            ],
            "application/vnd.jupyter.widget-view+json": {
              "version_major": 2,
              "version_minor": 0,
              "model_id": "69fb16c85d3f45a18077a99639788649"
            }
          },
          "metadata": {}
        },
        {
          "output_type": "display_data",
          "data": {
            "text/plain": [
              "Output()"
            ],
            "application/vnd.jupyter.widget-view+json": {
              "version_major": 2,
              "version_minor": 0,
              "model_id": "18885caec13b48d4a76e3ae69b63f158"
            }
          },
          "metadata": {}
        }
      ]
    },
    {
      "cell_type": "code",
      "source": [
        "import ipywidgets as widgets\n",
        "slider = widgets.IntSlider(value=5, max=10)\n",
        "display(slider)"
      ],
      "metadata": {
        "colab": {
          "base_uri": "https://localhost:8080/",
          "height": 49,
          "referenced_widgets": [
            "7f06659a7b304fb89a788c7c5d50af6f",
            "e0af28cd216a4b4a86f7052a9c353a3b",
            "87ed14b463a94d9388314d175d377a13"
          ]
        },
        "id": "IzdPX8VJogql",
        "outputId": "23023e0d-2443-45a1-fae0-08fbdb729a4f"
      },
      "execution_count": 67,
      "outputs": [
        {
          "output_type": "display_data",
          "data": {
            "text/plain": [
              "IntSlider(value=5, max=10)"
            ],
            "application/vnd.jupyter.widget-view+json": {
              "version_major": 2,
              "version_minor": 0,
              "model_id": "7f06659a7b304fb89a788c7c5d50af6f"
            }
          },
          "metadata": {}
        }
      ]
    },
    {
      "cell_type": "code",
      "source": [
        "print(\"Hello, world!\")\n",
        "\n",
        "!ls \"/content/drive/My Drive/Colab Notebooks\"\n",
        "\n",
        "import numpy as np\n",
        "from matplotlib import pyplot as plt\n",
        "y = np.random.randn(100)\n",
        "x = [x for x in range(len(y))]\n",
        "plt.plot(x, y, '-')\n",
        "plt.fill_between(x, y, 200, where = (y > 195), facecolor='g', alpha=0.6)\n",
        "plt.title(\"Sample Plot\")\n",
        "plt.show()"
      ],
      "metadata": {
        "colab": {
          "base_uri": "https://localhost:8080/",
          "height": 316
        },
        "id": "15l_adE5gxyT",
        "outputId": "205afebf-039e-4e00-90ff-8883730f0f72"
      },
      "execution_count": 30,
      "outputs": [
        {
          "output_type": "stream",
          "name": "stdout",
          "text": [
            "Hello, world!\n",
            "ronCommit.ipynb  tirgul2.ipynb\n"
          ]
        },
        {
          "output_type": "display_data",
          "data": {
            "text/plain": [
              "<Figure size 432x288 with 1 Axes>"
            ],
            "image/png": "[encoded data removed]"
          },
          "metadata": {
            "needs_background": "light"
          }
        }
      ]
    },
    {
      "cell_type": "code",
      "source": [
        "%ldir\n",
        "%history"
      ],
      "metadata": {
        "colab": {
          "base_uri": "https://localhost:8080/"
        },
        "id": "LgubuGNfkJlb",
        "outputId": "9532d839-ecc4-4b97-c37d-a89a35c8409f"
      },
      "execution_count": 31,
      "outputs": [
        {
          "output_type": "stream",
          "name": "stdout",
          "text": [
            "drwx------ 5 root 4096 Mar 20 14:45 \u001b[0m\u001b[01;34mdrive\u001b[0m/\n",
            "drwxr-xr-x 1 root 4096 Mar 16 13:45 \u001b[01;34msample_data\u001b[0m/\n",
            "print(\"Hello World\")\n",
            "!pip install numpy\n",
            "drive.mount('/content/drive')\n",
            "import drive\n",
            "drive.mount('/content/drive')\n",
            "ls\n",
            "!ls \"/content/drive/My Drive/Colab Notebooks\"\n",
            "!ls \"/content/drive/My Drive/Colab Notebooks\"\n",
            "import numpy as np\n",
            "from matplotlib import pyplot as plt\n",
            "y = np.random.randn(100)\n",
            "x = [x for x in range(len(y))]\n",
            "plt.plot(x, y, '-')\n",
            "plt.fill_between(x, y, 200, where = (y > 195), facecolor='g', alpha=0.6)\n",
            "plt.title(\"Sample Plot\")\n",
            "plt.show()\n",
            "!ls \"/content/drive/My Drive/Colab Notebooks\"\n",
            "import numpy as np\n",
            "from matplotlib import pyplot as plt\n",
            "y = np.random.randn(100)\n",
            "x = [x for x in range(len(y))]\n",
            "plt.plot(x, y, '-')\n",
            "plt.fill_between(x, y, 200, where = (y > 195), facecolor='g', alpha=0.6)\n",
            "plt.title(\"Sample Plot\")\n",
            "plt.show()\n",
            "%ldir\n",
            "%history\n",
            "!ls \"/content/drive/My Drive/Colab Notebooks\"\n",
            "import numpy as np\n",
            "from matplotlib import pyplot as plt\n",
            "y = np.random.randn(100)\n",
            "x = [x for x in range(len(y))]\n",
            "plt.plot(x, y, '-')\n",
            "plt.fill_between(x, y, 200, where = (y > 195), facecolor='g', alpha=0.6)\n",
            "plt.title(\"Sample Plot\")\n",
            "plt.show()\n",
            "%ldir\n",
            "%history\n",
            "!ls \"/content/drive/My Drive/Colab Notebooks\"\n",
            "import numpy as np\n",
            "from matplotlib import pyplot as plt\n",
            "y = np.random.randn(100)\n",
            "x = [x for x in range(len(y))]\n",
            "plt.plot(x, y, '-')\n",
            "plt.fill_between(x, y, 200, where = (y > 195), facecolor='g', alpha=0.6)\n",
            "plt.title(\"Sample Plot\")\n",
            "plt.show()\n",
            "%ldir\n",
            "%history\n",
            "!ls \"/content/drive/My Drive/Colab Notebooks\"\n",
            "\n",
            "\n",
            "import numpy as np\n",
            "from matplotlib import pyplot as plt\n",
            "y = np.random.randn(100)\n",
            "x = [x for x in range(len(y))]\n",
            "plt.plot(x, y, '-')\n",
            "plt.fill_between(x, y, 200, where = (y > 195), facecolor='g', alpha=0.6)\n",
            "plt.title(\"Sample Plot\")\n",
            "plt.show()\n",
            "\n",
            "%ldir\n",
            "%history\n",
            "\n",
            "%%html\n",
            "<svg xmlns=\"https://www.w3.org/2000/svg\" viewBox=\"0 0 600 400\" width=\"400\" height=\"400\">\n",
            "   <rect x=\"10\" y=\"00\" width=\"300\" height=\"100\" rx=\"0\" style=\"fill:orange; stroke:black; fill-opacity:1.0\" />\n",
            "   <rect x=\"10\" y=\"100\" width=\"300\" height=\"100\" rx=\"0\" style=\"fill:white; stroke:black; fill-opacity:1.0\" />\n",
            "   <rect x=\"10\" y=\"200\" width=\"300\" height=\"100\" rx=\"0\" style=\"fill:green; stroke:black; fill-opacity:1.0\" />\n",
            "</svg>\n",
            "!ls \"/content/drive/My Drive/Colab Notebooks\"\n",
            "\n",
            "\n",
            "import numpy as np\n",
            "from matplotlib import pyplot as plt\n",
            "y = np.random.randn(100)\n",
            "x = [x for x in range(len(y))]\n",
            "plt.plot(x, y, '-')\n",
            "plt.fill_between(x, y, 200, where = (y > 195), facecolor='g', alpha=0.6)\n",
            "plt.title(\"Sample Plot\")\n",
            "plt.show()\n",
            "\n",
            "%ldir\n",
            "%history\n",
            "\n",
            "%%html\n",
            "<svg xmlns=\"https://www.w3.org/2000/svg\" viewBox=\"0 0 600 400\" width=\"400\" height=\"400\">\n",
            "   <rect x=\"10\" y=\"00\" width=\"300\" height=\"100\" rx=\"0\" style=\"fill:orange; stroke:black; fill-opacity:1.0\" />\n",
            "   <rect x=\"10\" y=\"100\" width=\"300\" height=\"100\" rx=\"0\" style=\"fill:white; stroke:black; fill-opacity:1.0\" />\n",
            "   <rect x=\"10\" y=\"200\" width=\"300\" height=\"100\" rx=\"0\" style=\"fill:green; stroke:black; fill-opacity:1.0\" />\n",
            "</svg>\n",
            "!ls \"/content/drive/My Drive/Colab Notebooks\"\n",
            "\n",
            "\n",
            "import numpy as np\n",
            "from matplotlib import pyplot as plt\n",
            "y = np.random.randn(100)\n",
            "x = [x for x in range(len(y))]\n",
            "plt.plot(x, y, '-')\n",
            "plt.fill_between(x, y, 200, where = (y > 195), facecolor='g', alpha=0.6)\n",
            "plt.title(\"Sample Plot\")\n",
            "plt.show()\n",
            "\n",
            "%ldir\n",
            "%history\n",
            "\n",
            "%%html\n",
            "<marquee style='width: 50%; color: Green;'>Welcome to cloud course!</marquee>\n",
            "\n",
            "%%html\n",
            "<svg xmlns=\"https://www.w3.org/2000/svg\" viewBox=\"0 0 600 400\" width=\"400\" height=\"400\">\n",
            "   <rect x=\"10\" y=\"00\" width=\"300\" height=\"100\" rx=\"0\" style=\"fill:orange; stroke:black; fill-opacity:1.0\" />\n",
            "   <rect x=\"10\" y=\"100\" width=\"300\" height=\"100\" rx=\"0\" style=\"fill:white; stroke:black; fill-opacity:1.0\" />\n",
            "   <rect x=\"10\" y=\"200\" width=\"300\" height=\"100\" rx=\"0\" style=\"fill:green; stroke:black; fill-opacity:1.0\" />\n",
            "</svg>\n",
            "!ls \"/content/drive/My Drive/Colab Notebooks\"\n",
            "\n",
            "\n",
            "import numpy as np\n",
            "from matplotlib import pyplot as plt\n",
            "y = np.random.randn(100)\n",
            "x = [x for x in range(len(y))]\n",
            "plt.plot(x, y, '-')\n",
            "plt.fill_between(x, y, 200, where = (y > 195), facecolor='g', alpha=0.6)\n",
            "plt.title(\"Sample Plot\")\n",
            "plt.show()\n",
            "\n",
            "%ldir\n",
            "%history\n",
            "\n",
            "%%html\n",
            "<marquee style='width: 50%; color: Green;'>Welcome to cloud course!</marquee>\n",
            "\n",
            "%%html\n",
            "<svg xmlns=\"https://www.w3.org/2000/svg\" viewBox=\"0 0 600 400\" width=\"400\" height=\"400\">\n",
            "   <rect x=\"10\" y=\"00\" width=\"300\" height=\"100\" rx=\"0\" style=\"fill:orange; stroke:black; fill-opacity:1.0\" />\n",
            "   <rect x=\"10\" y=\"100\" width=\"300\" height=\"100\" rx=\"0\" style=\"fill:white; stroke:black; fill-opacity:1.0\" />\n",
            "   <rect x=\"10\" y=\"200\" width=\"300\" height=\"100\" rx=\"0\" style=\"fill:green; stroke:black; fill-opacity:1.0\" />\n",
            "</svg>\n",
            "!ls \"/content/drive/My Drive/Colab Notebooks\"\n",
            "\n",
            "\n",
            "import numpy as np\n",
            "from matplotlib import pyplot as plt\n",
            "y = np.random.randn(100)\n",
            "x = [x for x in range(len(y))]\n",
            "plt.plot(x, y, '-')\n",
            "plt.fill_between(x, y, 200, where = (y > 195), facecolor='g', alpha=0.6)\n",
            "plt.title(\"Sample Plot\")\n",
            "plt.show()\n",
            "\n",
            "%ldir\n",
            "%history\n",
            "\n",
            "%%html\n",
            "<marquee style='width: 50%; color: Green;'>Welcome to cloud course!</marquee>\n",
            "\n",
            "%%html\n",
            "<marquee style='width: 50%; color: Green;'>Welcome to cloud course!</marquee>\n",
            "\n",
            "%%html\n",
            "<marquee style='width: 50%; color: Green;'>Welcome to cloud course!</marquee>\n",
            "\n",
            "%%html\n",
            "<svg xmlns=\"https://www.w3.org/2000/svg\" viewBox=\"0 0 600 400\" width=\"400\" height=\"400\">\n",
            "   <rect x=\"10\" y=\"00\" width=\"300\" height=\"100\" rx=\"0\" style=\"fill:orange; stroke:black; fill-opacity:1.0\" />\n",
            "   <rect x=\"10\" y=\"100\" width=\"300\" height=\"100\" rx=\"0\" style=\"fill:white; stroke:black; fill-opacity:1.0\" />\n",
            "   <rect x=\"10\" y=\"200\" width=\"300\" height=\"100\" rx=\"0\" style=\"fill:green; stroke:black; fill-opacity:1.0\" />\n",
            "</svg>\n",
            "slide 2\n",
            "print(\"Hello, world!\")\n",
            "\n",
            "slide 3\n",
            "!pip install numpy\n",
            "\n",
            "slide 4\n",
            "from google.colab import drive\n",
            "drive.mount('/content/drive')\n",
            "\n",
            "slide 7\n",
            "!ls \"/content/drive/My Drive/Colab Notebooks\"\n",
            "\n",
            "slide 8\n",
            "import numpy as np\n",
            "from matplotlib import pyplot as plt\n",
            "y = np.random.randn(100)\n",
            "x = [x for x in range(len(y))]\n",
            "plt.plot(x, y, '-')\n",
            "plt.fill_between(x, y, 200, where = (y > 195), facecolor='g', alpha=0.6)\n",
            "plt.title(\"Sample Plot\")\n",
            "plt.show()\n",
            "\n",
            "slide 11\n",
            "%ldir\n",
            "%history\n",
            "\n",
            "slide 12\n",
            "%%html\n",
            "<marquee style='width: 50%; color: Green;'>Welcome to cloud course!</marquee>\n",
            "\n",
            "slide 13\n",
            "%%html\n",
            "<svg xmlns=\"https://www.w3.org/2000/svg\" viewBox=\"0 0 600 400\" width=\"400\" height=\"400\">\n",
            "   <rect x=\"10\" y=\"00\" width=\"300\" height=\"100\" rx=\"0\" style=\"fill:orange; stroke:black; fill-opacity:1.0\" />\n",
            "   <rect x=\"10\" y=\"100\" width=\"300\" height=\"100\" rx=\"0\" style=\"fill:white; stroke:black; fill-opacity:1.0\" />\n",
            "   <rect x=\"10\" y=\"200\" width=\"300\" height=\"100\" rx=\"0\" style=\"fill:green; stroke:black; fill-opacity:1.0\" />\n",
            "</svg>\n",
            "\n",
            "print(\"Hello, world!\")\n",
            "\n",
            "\n",
            "!pip install numpy\n",
            "\n",
            "\n",
            "from google.colab import drive\n",
            "drive.mount('/content/drive')\n",
            "\n",
            "\n",
            "!ls \"/content/drive/My Drive/Colab Notebooks\"\n",
            "\n",
            "\n",
            "import numpy as np\n",
            "from matplotlib import pyplot as plt\n",
            "y = np.random.randn(100)\n",
            "x = [x for x in range(len(y))]\n",
            "plt.plot(x, y, '-')\n",
            "plt.fill_between(x, y, 200, where = (y > 195), facecolor='g', alpha=0.6)\n",
            "plt.title(\"Sample Plot\")\n",
            "plt.show()\n",
            "\n",
            "\n",
            "%ldir\n",
            "%history\n",
            "\n",
            "\n",
            "%%html\n",
            "<marquee style='width: 50%; color: Green;'>Welcome to cloud course!</marquee>\n",
            "\n",
            "\n",
            "%%html\n",
            "<svg xmlns=\"https://www.w3.org/2000/svg\" viewBox=\"0 0 600 400\" width=\"400\" height=\"400\">\n",
            "   <rect x=\"10\" y=\"00\" width=\"300\" height=\"100\" rx=\"0\" style=\"fill:orange; stroke:black; fill-opacity:1.0\" />\n",
            "   <rect x=\"10\" y=\"100\" width=\"300\" height=\"100\" rx=\"0\" style=\"fill:white; stroke:black; fill-opacity:1.0\" />\n",
            "   <rect x=\"10\" y=\"200\" width=\"300\" height=\"100\" rx=\"0\" style=\"fill:green; stroke:black; fill-opacity:1.0\" />\n",
            "</svg>\n",
            "\n",
            "print(\"Hello, world!\")\n",
            "\n",
            "\n",
            "!pip install numpy\n",
            "\n",
            "\n",
            "from google.colab import drive\n",
            "drive.mount('/content/drive')\n",
            "\n",
            "\n",
            "!ls \"/content/drive/My Drive/Colab Notebooks\"\n",
            "\n",
            "\n",
            "import numpy as np\n",
            "from matplotlib import pyplot as plt\n",
            "y = np.random.randn(100)\n",
            "x = [x for x in range(len(y))]\n",
            "plt.plot(x, y, '-')\n",
            "plt.fill_between(x, y, 200, where = (y > 195), facecolor='g', alpha=0.6)\n",
            "plt.title(\"Sample Plot\")\n",
            "plt.show()\n",
            "\n",
            "\n",
            "%ldir\n",
            "%history\n",
            "\n",
            "\n",
            "%%html\n",
            "<marquee style='width: 50%; color: Green;'>Welcome to cloud course!</marquee>\n",
            "\n",
            "\n",
            "\n",
            "<svg xmlns=\"https://www.w3.org/2000/svg\" viewBox=\"0 0 600 400\" width=\"400\" height=\"400\">\n",
            "   <rect x=\"10\" y=\"00\" width=\"300\" height=\"100\" rx=\"0\" style=\"fill:orange; stroke:black; fill-opacity:1.0\" />\n",
            "   <rect x=\"10\" y=\"100\" width=\"300\" height=\"100\" rx=\"0\" style=\"fill:white; stroke:black; fill-opacity:1.0\" />\n",
            "   <rect x=\"10\" y=\"200\" width=\"300\" height=\"100\" rx=\"0\" style=\"fill:green; stroke:black; fill-opacity:1.0\" />\n",
            "</svg>\n",
            "\n",
            "\n",
            "%%html\n",
            "<marquee style='width: 50%; color: Green;'>Welcome to cloud course!</marquee>\n",
            "\n",
            "\n",
            "\n",
            "<svg xmlns=\"https://www.w3.org/2000/svg\" viewBox=\"0 0 600 400\" width=\"400\" height=\"400\">\n",
            "   <rect x=\"10\" y=\"00\" width=\"300\" height=\"100\" rx=\"0\" style=\"fill:orange; stroke:black; fill-opacity:1.0\" />\n",
            "   <rect x=\"10\" y=\"100\" width=\"300\" height=\"100\" rx=\"0\" style=\"fill:white; stroke:black; fill-opacity:1.0\" />\n",
            "   <rect x=\"10\" y=\"200\" width=\"300\" height=\"100\" rx=\"0\" style=\"fill:green; stroke:black; fill-opacity:1.0\" />\n",
            "</svg>\n",
            "\n",
            "\n",
            "%%html\n",
            "<marquee style='width: 50%; color: Green;'>Welcome to cloud course!</marquee>\n",
            "\n",
            "\n",
            "\n",
            "<svg xmlns=\"https://www.w3.org/2000/svg\" viewBox=\"0 0 600 400\" width=\"400\" height=\"400\">\n",
            "   <rect x=\"10\" y=\"00\" width=\"300\" height=\"100\" rx=\"0\" style=\"fill:orange; stroke:black; fill-opacity:1.0\" />\n",
            "   <rect x=\"10\" y=\"100\" width=\"300\" height=\"100\" rx=\"0\" style=\"fill:white; stroke:black; fill-opacity:1.0\" />\n",
            "   <rect x=\"10\" y=\"200\" width=\"300\" height=\"100\" rx=\"0\" style=\"fill:green; stroke:black; fill-opacity:1.0\" />\n",
            "</svg>\n",
            "\n",
            "sleeptime\n",
            "#@title Cloud course\n",
            "import time\n",
            "print(time.ctime())\n",
            "time.sleep(sleeptime) \n",
            "print (time.ctime())\n",
            "#@title Cloud course\n",
            "sleeptime\n",
            "import time\n",
            "print(time.ctime())\n",
            "time.sleep(sleeptime) \n",
            "print (time.ctime())\n",
            "#@title Cloud course\n",
            "sleeptimer = 0 #@param {type:\"integer\"}\n",
            "import time\n",
            "print(time.ctime())\n",
            "time.sleep(sleeptimer) \n",
            "print (time.ctime())\n",
            "#@title Cloud course\n",
            "sleeptimer = 0 #@param {type:\"integer\"}\n",
            "import time\n",
            "print(time.ctime())\n",
            "time.sleep(sleeptimer) \n",
            "print (time.ctime()) \n",
            "\n",
            "name = 'Cloud course' #@param {type:\"string\"} \n",
            "print(name)\n",
            "#@title Cloud course\n",
            "sleeptimer = 2 #@param {type:\"integer\"}\n",
            "import time\n",
            "print(time.ctime())\n",
            "time.sleep(sleeptimer) \n",
            "print (time.ctime()) \n",
            "\n",
            "name = 'Cloud course' #@param {type:\"string\"} \n",
            "print(name)\n",
            "print(\"Hello, world!\")\n",
            "#@title Cloud course\n",
            "sleeptimer = 2 #@param {type:\"integer\"}\n",
            "import time\n",
            "print(time.ctime())\n",
            "time.sleep(sleeptimer) \n",
            "print (time.ctime()) \n",
            "\n",
            "name = 'Cloud course' #@param {type:\"string\"} \n",
            "print(name)\n",
            "print(\"Hello, world!\")\n",
            "\n",
            "!ls \"/content/drive/My Drive/Colab Notebooks\"\n",
            "\n",
            "import numpy as np\n",
            "from matplotlib import pyplot as plt\n",
            "y = np.random.randn(100)\n",
            "x = [x for x in range(len(y))]\n",
            "plt.plot(x, y, '-')\n",
            "plt.fill_between(x, y, 200, where = (y > 195), facecolor='g', alpha=0.6)\n",
            "plt.title(\"Sample Plot\")\n",
            "plt.show()\n",
            "%ldir\n",
            "%history\n"
          ]
        }
      ]
    },
    {
      "cell_type": "code",
      "source": [
        "%%html\n",
        "<marquee style='width: 50%; color: Green;'>Welcome to cloud course!</marquee>"
      ],
      "metadata": {
        "colab": {
          "base_uri": "https://localhost:8080/",
          "height": 38
        },
        "id": "Dq7egXt4kMh1",
        "outputId": "6981f1e2-99cf-4d59-dbce-f6bc2c861c12"
      },
      "execution_count": 32,
      "outputs": [
        {
          "output_type": "display_data",
          "data": {
            "text/plain": [
              "<IPython.core.display.HTML object>"
            ],
            "text/html": [
              "<marquee style='width: 50%; color: Green;'>Welcome to cloud course!</marquee>\n"
            ]
          },
          "metadata": {}
        }
      ]
    },
    {
      "cell_type": "code",
      "source": [
        "%%html\n",
        "<svg xmlns=\"https://www.w3.org/2000/svg\" viewBox=\"0 0 600 400\" width=\"400\" height=\"400\">\n",
        "   <rect x=\"10\" y=\"00\" width=\"300\" height=\"100\" rx=\"0\" style=\"fill:orange; stroke:black; fill-opacity:1.0\" />\n",
        "   <rect x=\"10\" y=\"100\" width=\"300\" height=\"100\" rx=\"0\" style=\"fill:white; stroke:black; fill-opacity:1.0\" />\n",
        "   <rect x=\"10\" y=\"200\" width=\"300\" height=\"100\" rx=\"0\" style=\"fill:green; stroke:black; fill-opacity:1.0\" />\n",
        "</svg>"
      ],
      "metadata": {
        "colab": {
          "base_uri": "https://localhost:8080/",
          "height": 421
        },
        "id": "PW3T8vNZkPH0",
        "outputId": "c6bc28ba-c477-4346-9dc4-e2494ea99ebb"
      },
      "execution_count": 33,
      "outputs": [
        {
          "output_type": "display_data",
          "data": {
            "text/plain": [
              "<IPython.core.display.HTML object>"
            ],
            "text/html": [
              "<svg xmlns=\"https://www.w3.org/2000/svg\" viewBox=\"0 0 600 400\" width=\"400\" height=\"400\">\n",
              "   <rect x=\"10\" y=\"00\" width=\"300\" height=\"100\" rx=\"0\" style=\"fill:orange; stroke:black; fill-opacity:1.0\" />\n",
              "   <rect x=\"10\" y=\"100\" width=\"300\" height=\"100\" rx=\"0\" style=\"fill:white; stroke:black; fill-opacity:1.0\" />\n",
              "   <rect x=\"10\" y=\"200\" width=\"300\" height=\"100\" rx=\"0\" style=\"fill:green; stroke:black; fill-opacity:1.0\" />\n",
              "</svg>\n"
            ]
          },
          "metadata": {}
        }
      ]
    }
  ]
}